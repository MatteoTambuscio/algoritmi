{
 "cells": [
  {
   "attachments": {},
   "cell_type": "markdown",
   "metadata": {},
   "source": [
    "# Esercizio 1"
   ]
  },
  {
   "cell_type": "code",
   "execution_count": null,
   "metadata": {},
   "outputs": [],
   "source": [
    "def search(l, n):\n",
    "\n",
    "    if len(l) == 0:\n",
    "        return \"non trovato\"\n",
    "    elif l[0] == n:\n",
    "        return \"trovato\"\n",
    "    else:\n",
    "        return search(l[1:], n)"
   ]
  },
  {
   "cell_type": "code",
   "execution_count": null,
   "metadata": {},
   "outputs": [],
   "source": [
    "search([1, 2, 3, 4], 34)"
   ]
  },
  {
   "attachments": {},
   "cell_type": "markdown",
   "metadata": {},
   "source": [
    "# Esercizio 2"
   ]
  },
  {
   "cell_type": "code",
   "execution_count": null,
   "metadata": {},
   "outputs": [],
   "source": [
    "def bubbleSort(l):\n",
    "    while True:\n",
    "        \n",
    "        next = False\n",
    "\n",
    "        for i in range(1, len(l)):\n",
    "            if l[i] < l[i-1]:\n",
    "                l[i], l[i-1] = l[i-1], l[i]\n",
    "                next = True\n",
    "        \n",
    "        if next == False:\n",
    "            break\n",
    "    \n",
    "    return l"
   ]
  },
  {
   "cell_type": "code",
   "execution_count": null,
   "metadata": {},
   "outputs": [],
   "source": [
    "bubbleSort([1, 3, 2, 1, 4])"
   ]
  },
  {
   "attachments": {},
   "cell_type": "markdown",
   "metadata": {},
   "source": [
    "# Esercizio 3"
   ]
  },
  {
   "cell_type": "code",
   "execution_count": 18,
   "metadata": {},
   "outputs": [],
   "source": [
    "def SelectionSort(l):\n",
    "    \n",
    "    n = len(l)\n",
    "\n",
    "    for i in range(0, n-1):\n",
    "\n",
    "        min = l[i]\n",
    "\n",
    "        for j in range(i, n):\n",
    "            \n",
    "            if l[j] < min:\n",
    "                min , l[j] = l[j], min\n",
    "        \n",
    "        l[i] = min\n",
    "    \n",
    "    return l"
   ]
  },
  {
   "cell_type": "code",
   "execution_count": 19,
   "metadata": {},
   "outputs": [
    {
     "data": {
      "text/plain": [
       "[3, 3, 4, 5]"
      ]
     },
     "execution_count": 19,
     "metadata": {},
     "output_type": "execute_result"
    }
   ],
   "source": [
    "SelectionSort([3, 5, 4, 3])"
   ]
  }
 ],
 "metadata": {
  "kernelspec": {
   "display_name": ".venv",
   "language": "python",
   "name": "python3"
  },
  "language_info": {
   "codemirror_mode": {
    "name": "ipython",
    "version": 3
   },
   "file_extension": ".py",
   "mimetype": "text/x-python",
   "name": "python",
   "nbconvert_exporter": "python",
   "pygments_lexer": "ipython3",
   "version": "3.11.2"
  },
  "orig_nbformat": 4
 },
 "nbformat": 4,
 "nbformat_minor": 2
}
